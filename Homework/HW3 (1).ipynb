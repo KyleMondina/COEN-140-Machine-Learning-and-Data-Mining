{
 "cells": [
  {
   "cell_type": "markdown",
   "metadata": {},
   "source": [
    "# HW3\n",
    "\n",
    "## Q2: K-means clustering (40 pts)\n",
    "    1. Given a K-means clustering model, run it on the iris dataset 20 times. Report the average NMI value along with its std (Normalized Mutual Information (NMI) is a standard clustering evaluation method. Basically, a higher NMI value indicates better clustering performance. More details could be referred to usage [here](https://scikit-learn.org/stable/modules/generated/sklearn.metrics.normalized_mutual_info_score.html) and this [introduction](https://nlp.stanford.edu/IR-book/html/htmledition/evaluation-of-clustering-1.html)). Save the best clustering result by NMI for the following steps. (10 pts)\n",
    "    2. Repeat step 1 for the given spectral clustering and hierarchical clustering models. Compare the clustering performance of these three methods by averaged NMI$\\pm$std. (10 pts) \n",
    "    3. Plot the best and worst clustering results of K-means by NMI. (20 pts)\n",
    "\n",
    "We will directly use the Sklearn libary for running K-means, spectral clustering, and hierarchical clustering. More details about the function usage could be referred to [Sklearn cluster](https://scikit-learn.org/stable/modules/classes.html#module-sklearn.cluster) and this [tutorial](https://scikit-learn.org/stable/modules/clustering.html)."
   ]
  },
  {
   "cell_type": "code",
   "execution_count": 2,
   "metadata": {},
   "outputs": [
    {
     "name": "stdout",
     "output_type": "stream",
     "text": [
      "[[5.1 3.5 1.4 0.2]\n",
      " [4.9 3.  1.4 0.2]\n",
      " [4.7 3.2 1.3 0.2]\n",
      " [4.6 3.1 1.5 0.2]\n",
      " [5.  3.6 1.4 0.2]\n",
      " [5.4 3.9 1.7 0.4]\n",
      " [4.6 3.4 1.4 0.3]\n",
      " [5.  3.4 1.5 0.2]\n",
      " [4.4 2.9 1.4 0.2]\n",
      " [4.9 3.1 1.5 0.1]\n",
      " [5.4 3.7 1.5 0.2]\n",
      " [4.8 3.4 1.6 0.2]\n",
      " [4.8 3.  1.4 0.1]\n",
      " [4.3 3.  1.1 0.1]\n",
      " [5.8 4.  1.2 0.2]\n",
      " [5.7 4.4 1.5 0.4]\n",
      " [5.4 3.9 1.3 0.4]\n",
      " [5.1 3.5 1.4 0.3]\n",
      " [5.7 3.8 1.7 0.3]\n",
      " [5.1 3.8 1.5 0.3]\n",
      " [5.4 3.4 1.7 0.2]\n",
      " [5.1 3.7 1.5 0.4]\n",
      " [4.6 3.6 1.  0.2]\n",
      " [5.1 3.3 1.7 0.5]\n",
      " [4.8 3.4 1.9 0.2]\n",
      " [5.  3.  1.6 0.2]\n",
      " [5.  3.4 1.6 0.4]\n",
      " [5.2 3.5 1.5 0.2]\n",
      " [5.2 3.4 1.4 0.2]\n",
      " [4.7 3.2 1.6 0.2]\n",
      " [4.8 3.1 1.6 0.2]\n",
      " [5.4 3.4 1.5 0.4]\n",
      " [5.2 4.1 1.5 0.1]\n",
      " [5.5 4.2 1.4 0.2]\n",
      " [4.9 3.1 1.5 0.2]\n",
      " [5.  3.2 1.2 0.2]\n",
      " [5.5 3.5 1.3 0.2]\n",
      " [4.9 3.6 1.4 0.1]\n",
      " [4.4 3.  1.3 0.2]\n",
      " [5.1 3.4 1.5 0.2]\n",
      " [5.  3.5 1.3 0.3]\n",
      " [4.5 2.3 1.3 0.3]\n",
      " [4.4 3.2 1.3 0.2]\n",
      " [5.  3.5 1.6 0.6]\n",
      " [5.1 3.8 1.9 0.4]\n",
      " [4.8 3.  1.4 0.3]\n",
      " [5.1 3.8 1.6 0.2]\n",
      " [4.6 3.2 1.4 0.2]\n",
      " [5.3 3.7 1.5 0.2]\n",
      " [5.  3.3 1.4 0.2]\n",
      " [7.  3.2 4.7 1.4]\n",
      " [6.4 3.2 4.5 1.5]\n",
      " [6.9 3.1 4.9 1.5]\n",
      " [5.5 2.3 4.  1.3]\n",
      " [6.5 2.8 4.6 1.5]\n",
      " [5.7 2.8 4.5 1.3]\n",
      " [6.3 3.3 4.7 1.6]\n",
      " [4.9 2.4 3.3 1. ]\n",
      " [6.6 2.9 4.6 1.3]\n",
      " [5.2 2.7 3.9 1.4]\n",
      " [5.  2.  3.5 1. ]\n",
      " [5.9 3.  4.2 1.5]\n",
      " [6.  2.2 4.  1. ]\n",
      " [6.1 2.9 4.7 1.4]\n",
      " [5.6 2.9 3.6 1.3]\n",
      " [6.7 3.1 4.4 1.4]\n",
      " [5.6 3.  4.5 1.5]\n",
      " [5.8 2.7 4.1 1. ]\n",
      " [6.2 2.2 4.5 1.5]\n",
      " [5.6 2.5 3.9 1.1]\n",
      " [5.9 3.2 4.8 1.8]\n",
      " [6.1 2.8 4.  1.3]\n",
      " [6.3 2.5 4.9 1.5]\n",
      " [6.1 2.8 4.7 1.2]\n",
      " [6.4 2.9 4.3 1.3]\n",
      " [6.6 3.  4.4 1.4]\n",
      " [6.8 2.8 4.8 1.4]\n",
      " [6.7 3.  5.  1.7]\n",
      " [6.  2.9 4.5 1.5]\n",
      " [5.7 2.6 3.5 1. ]\n",
      " [5.5 2.4 3.8 1.1]\n",
      " [5.5 2.4 3.7 1. ]\n",
      " [5.8 2.7 3.9 1.2]\n",
      " [6.  2.7 5.1 1.6]\n",
      " [5.4 3.  4.5 1.5]\n",
      " [6.  3.4 4.5 1.6]\n",
      " [6.7 3.1 4.7 1.5]\n",
      " [6.3 2.3 4.4 1.3]\n",
      " [5.6 3.  4.1 1.3]\n",
      " [5.5 2.5 4.  1.3]\n",
      " [5.5 2.6 4.4 1.2]\n",
      " [6.1 3.  4.6 1.4]\n",
      " [5.8 2.6 4.  1.2]\n",
      " [5.  2.3 3.3 1. ]\n",
      " [5.6 2.7 4.2 1.3]\n",
      " [5.7 3.  4.2 1.2]\n",
      " [5.7 2.9 4.2 1.3]\n",
      " [6.2 2.9 4.3 1.3]\n",
      " [5.1 2.5 3.  1.1]\n",
      " [5.7 2.8 4.1 1.3]\n",
      " [6.3 3.3 6.  2.5]\n",
      " [5.8 2.7 5.1 1.9]\n",
      " [7.1 3.  5.9 2.1]\n",
      " [6.3 2.9 5.6 1.8]\n",
      " [6.5 3.  5.8 2.2]\n",
      " [7.6 3.  6.6 2.1]\n",
      " [4.9 2.5 4.5 1.7]\n",
      " [7.3 2.9 6.3 1.8]\n",
      " [6.7 2.5 5.8 1.8]\n",
      " [7.2 3.6 6.1 2.5]\n",
      " [6.5 3.2 5.1 2. ]\n",
      " [6.4 2.7 5.3 1.9]\n",
      " [6.8 3.  5.5 2.1]\n",
      " [5.7 2.5 5.  2. ]\n",
      " [5.8 2.8 5.1 2.4]\n",
      " [6.4 3.2 5.3 2.3]\n",
      " [6.5 3.  5.5 1.8]\n",
      " [7.7 3.8 6.7 2.2]\n",
      " [7.7 2.6 6.9 2.3]\n",
      " [6.  2.2 5.  1.5]\n",
      " [6.9 3.2 5.7 2.3]\n",
      " [5.6 2.8 4.9 2. ]\n",
      " [7.7 2.8 6.7 2. ]\n",
      " [6.3 2.7 4.9 1.8]\n",
      " [6.7 3.3 5.7 2.1]\n",
      " [7.2 3.2 6.  1.8]\n",
      " [6.2 2.8 4.8 1.8]\n",
      " [6.1 3.  4.9 1.8]\n",
      " [6.4 2.8 5.6 2.1]\n",
      " [7.2 3.  5.8 1.6]\n",
      " [7.4 2.8 6.1 1.9]\n",
      " [7.9 3.8 6.4 2. ]\n",
      " [6.4 2.8 5.6 2.2]\n",
      " [6.3 2.8 5.1 1.5]\n",
      " [6.1 2.6 5.6 1.4]\n",
      " [7.7 3.  6.1 2.3]\n",
      " [6.3 3.4 5.6 2.4]\n",
      " [6.4 3.1 5.5 1.8]\n",
      " [6.  3.  4.8 1.8]\n",
      " [6.9 3.1 5.4 2.1]\n",
      " [6.7 3.1 5.6 2.4]\n",
      " [6.9 3.1 5.1 2.3]\n",
      " [5.8 2.7 5.1 1.9]\n",
      " [6.8 3.2 5.9 2.3]\n",
      " [6.7 3.3 5.7 2.5]\n",
      " [6.7 3.  5.2 2.3]\n",
      " [6.3 2.5 5.  1.9]\n",
      " [6.5 3.  5.2 2. ]\n",
      " [6.2 3.4 5.4 2.3]\n",
      " [5.9 3.  5.1 1.8]]\n",
      "['setosa' 'versicolor' 'virginica']\n",
      "[0 0 0 0 0 0 0 0 0 0 0 0 0 0 0 0 0 0 0 0 0 0 0 0 0 0 0 0 0 0 0 0 0 0 0 0 0\n",
      " 0 0 0 0 0 0 0 0 0 0 0 0 0 1 1 1 1 1 1 1 1 1 1 1 1 1 1 1 1 1 1 1 1 1 1 1 1\n",
      " 1 1 1 1 1 1 1 1 1 1 1 1 1 1 1 1 1 1 1 1 1 1 1 1 1 1 2 2 2 2 2 2 2 2 2 2 2\n",
      " 2 2 2 2 2 2 2 2 2 2 2 2 2 2 2 2 2 2 2 2 2 2 2 2 2 2 2 2 2 2 2 2 2 2 2 2 2\n",
      " 2 2]\n"
     ]
    }
   ],
   "source": [
    "from sklearn.datasets import load_iris\n",
    "from sklearn.cluster import KMeans, SpectralClustering, AgglomerativeClustering\n",
    "from sklearn.metrics.cluster import normalized_mutual_info_score as nmi_score\n",
    "import statistics\n",
    "dataset = load_iris()\n",
    "X = dataset.data\n",
    "gnd = dataset.target\n",
    "semantic_labels = dataset.target_names\n",
    "print(X)\n",
    "print(semantic_labels)\n",
    "print(gnd)\n",
    "K = len(set(gnd)) # get the ground-truth cluster number"
   ]
  },
  {
   "cell_type": "markdown",
   "metadata": {},
   "source": [
    "### Q1-1: K-means (20 pts)\n",
    "Given a K-means model, run it 20 times to report average NMI and std value. Save the clustering labels of each trial for the following steps."
   ]
  },
  {
   "cell_type": "code",
   "execution_count": 3,
   "metadata": {},
   "outputs": [
    {
     "name": "stdout",
     "output_type": "stream",
     "text": [
      "nmis mean: 0.6714138935336338\n",
      "nmis std: 0.08580960088377348\n"
     ]
    }
   ],
   "source": [
    "km = KMeans(n_clusters=K, init='random', n_init=1)\n",
    "idx, nmis = [], []\n",
    "for i in range(20):\n",
    "    # run K-means here\n",
    "    # idx.append(the obtained clustering labels)\n",
    "    # nmi.append(nmi_score(gnd, clustering label))\n",
    "    km_predictions = km.fit_predict(X)\n",
    "    idx.append(km.labels_)\n",
    "    nmis.append(nmi_score(gnd,km.labels_))\n",
    "    #pass # delete this statement once you complete this snippet.\n",
    "# report mean and std values of nmis\n",
    "print('nmis mean: {}\\nnmis std: {}'.format(statistics.mean(nmis),statistics.stdev(nmis)))"
   ]
  },
  {
   "cell_type": "markdown",
   "metadata": {},
   "source": [
    "### Q1-2: Compare K-means with SC and AC (20 pts)\n",
    "Repeat Q1-1 with the following two given models."
   ]
  },
  {
   "cell_type": "code",
   "execution_count": 4,
   "metadata": {},
   "outputs": [
    {
     "name": "stdout",
     "output_type": "stream",
     "text": [
      "Using KMeans\n",
      "nmis mean: 0.7168832084752687\n",
      "nmis std: 0.0663737267283476\n",
      "\n",
      "\n",
      "Using Spectral Clustering:\n",
      "nmis mean: 0.7979885217013319\n",
      "nmis std: 0.0\n",
      "\n",
      "\n",
      "Using Agglomerative Clustering\n",
      "nmis mean: 0.770083661648787\n",
      "nmis std: 0.0\n",
      "\n",
      "\n"
     ]
    }
   ],
   "source": [
    "sc = SpectralClustering(n_clusters=K, n_init=1) # spectral clustering model\n",
    "ac = AgglomerativeClustering(n_clusters=K) # hierarchical clustering model\n",
    "km = KMeans(n_clusters=K, init='random', n_init=1)\n",
    "\n",
    "idx, nmis = [], []\n",
    "for i in range(20):\n",
    "    km_predictions = km.fit_predict(X)\n",
    "    idx.append(km.labels_)\n",
    "    nmis.append(nmi_score(gnd,km.labels_))\n",
    "print('Using KMeans')\n",
    "print('nmis mean: {}\\nnmis std: {}\\n\\n'.format(statistics.mean(nmis),statistics.stdev(nmis)))\n",
    "\n",
    "idx, nmis = [], []\n",
    "for i in range(20):\n",
    "    sc_predictions = sc.fit_predict(X)\n",
    "    idx.append(sc.labels_)\n",
    "    nmis.append(nmi_score(gnd,sc.labels_))\n",
    "print('Using Spectral Clustering:')\n",
    "print('nmis mean: {}\\nnmis std: {}\\n\\n'.format(statistics.mean(nmis),statistics.stdev(nmis)))\n",
    "\n",
    "idx, nmis = [], []\n",
    "for i in range(20):\n",
    "    ac_predictions = ac.fit_predict(X)\n",
    "    idx.append(ac.labels_)\n",
    "    nmis.append(nmi_score(gnd,ac.labels_))\n",
    "print('Using Agglomerative Clustering')\n",
    "print('nmis mean: {}\\nnmis std: {}\\n\\n'.format(statistics.mean(nmis),statistics.stdev(nmis)))\n",
    "\n",
    "# TODO: repeat Q1-1 and compare km with sc and ac\n",
    "# print the comparion results"
   ]
  },
  {
   "cell_type": "markdown",
   "metadata": {},
   "source": [
    "### Q1-3: Plot K-means clustering results (20 pts)"
   ]
  },
  {
   "cell_type": "code",
   "execution_count": 5,
   "metadata": {},
   "outputs": [
    {
     "data": {
      "text/plain": [
       "<matplotlib.legend.Legend at 0x1f096e3ff40>"
      ]
     },
     "execution_count": 5,
     "metadata": {},
     "output_type": "execute_result"
    },
    {
     "data": {
      "image/png": "[encoded data removed]",
      "text/plain": [
       "<Figure size 1296x432 with 3 Axes>"
      ]
     },
     "metadata": {
      "needs_background": "light"
     },
     "output_type": "display_data"
    }
   ],
   "source": [
    "#import seaborn as sns\n",
    "#sns.set_theme()\n",
    "import matplotlib.pyplot as plt \n",
    "\n",
    "clustering_labels = ['Cluster 1', 'Cluster 2', 'Cluster 3']\n",
    "\n",
    "km = KMeans(n_clusters=K, init='random', n_init=1)\n",
    "idx, nmis = [], []\n",
    "for i in range(200):\n",
    "    km_predictions = km.fit_predict(X)\n",
    "    idx.append(km.labels_)\n",
    "    nmis.append(nmi_score(gnd,km.labels_))\n",
    "\n",
    "# TODO: \n",
    "# 1) find the best/worst clustering labels by NMI, termed as bst_idx and wst_idx\n",
    "# 2) scatter plot the data samples upon the clustering labels, bst_idx and wst_idx.\n",
    "\n",
    "#finding the best nmi\n",
    "max_nmi = max(nmis)\n",
    "max_index = nmis.index(max_nmi)\n",
    "bst_idx = idx[max_index]\n",
    "\n",
    "#finding the worst nmi\n",
    "min_nmi = min(nmis)\n",
    "min_index = nmis.index(min_nmi)\n",
    "wst_idx = idx[min_index]\n",
    "\n",
    "\n",
    "fig, (ax1, ax2, ax3) = plt.subplots(1, 3, figsize=(18,6))\n",
    "fig.suptitle('Comapre differnt K-means results')\n",
    "colors = ['tab:blue', 'tab:orange', 'tab:green']\n",
    "ax1.set_title('Original dataset with semantic labels')\n",
    "# fill out the NMI values in the title\n",
    "ax2.set_title('K-means result by best NMI={}'.format(max_nmi))\n",
    "ax3.set_title('K-means result by worst NMI={}'.format(min_nmi))\n",
    "\n",
    "for color, i in zip(colors, [0, 1, 2]):\n",
    "    ax1.scatter(X[gnd == i, 0], X[gnd == i, 1], color=color, alpha=.8, label=semantic_labels[i])\n",
    "    ax2.scatter(X[bst_idx == i, 0], X[bst_idx == i, 1], color=color, alpha=.8, label=clustering_labels[i])\n",
    "    ax3.scatter(X[wst_idx == i, 0], X[wst_idx == i, 1], color=color, alpha=.8, label=clustering_labels[i])\n",
    "\n",
    "    # ax2.scatter(?) plot with bst_idx and clsutering_labels\n",
    "    # ax3.scatter(?) plot with wst_idx and clsutering_labels\n",
    "ax1.legend(fancybox=True, framealpha=0.5)\n",
    "\n",
    "# TODO: add legends for ax2 and ax3\n",
    "ax2.legend(fancybox=True, framealpha=0.5)\n",
    "ax3.legend(fancybox=True, framealpha=0.5)"
   ]
  },
  {
   "cell_type": "markdown",
   "metadata": {},
   "source": [
    "Answer the following questions:\n",
    "- Can we use the semantic_labels for the clustering results plot? Why? \n",
    "- Why does the same clustering label (e.g., clustering 1) have different groups of samples between two K-means results?\n",
    "\n",
    "Please directly answer the above question with Markdown inside this notebook file."
   ]
  },
  {
   "cell_type": "code",
   "execution_count": 6,
   "metadata": {},
   "outputs": [
    {
     "data": {
      "text/plain": [
       "'1.) We cannot use semantic labels for clutering, In the algorithm, we start with random clusters and hence these\\n       do not have any semantic meaning whatsover. As shown in the graph, we can arrive at the same clusters as gnd however\\n       there is no way of giving the clusters the matching semantic label before we run the algorithm\\n   2.) There can be multiple valid clusters under the k means algorith because it converges on the local minima which is sometimes not th\\n       the same as the global minima thus you can have different troups of samples between two K-means results.'"
      ]
     },
     "execution_count": 6,
     "metadata": {},
     "output_type": "execute_result"
    }
   ],
   "source": [
    "\"\"\"1.) We cannot use semantic labels for clutering, In the algorithm, we start with random clusters and hence these\n",
    "       do not have any semantic meaning whatsover. As shown in the graph, we can arrive at the same clusters as gnd however\n",
    "       there is no way of giving the clusters the matching semantic label before we run the algorithm\n",
    "   2.) There can be multiple valid clusters under the k means algorith because it converges on the local minima which is sometimes not th\n",
    "       the same as the global minima thus you can have different troups of samples between two K-means results.\"\"\""
   ]
  },
  {
   "cell_type": "code",
   "execution_count": null,
   "metadata": {},
   "outputs": [],
   "source": []
  }
 ],
 "metadata": {
  "kernelspec": {
   "display_name": "Python 3",
   "language": "python",
   "name": "python3"
  },
  "language_info": {
   "codemirror_mode": {
    "name": "ipython",
    "version": 3
   },
   "file_extension": ".py",
   "mimetype": "text/x-python",
   "name": "python",
   "nbconvert_exporter": "python",
   "pygments_lexer": "ipython3",
   "version": "3.8.3"
  }
 },
 "nbformat": 4,
 "nbformat_minor": 4
}
